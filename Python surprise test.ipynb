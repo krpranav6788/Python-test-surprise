{
 "cells": [
  {
   "cell_type": "code",
   "execution_count": 3,
   "id": "71b28e23-88b2-467d-8c17-c83933fd09ca",
   "metadata": {},
   "outputs": [
    {
     "name": "stdout",
     "output_type": "stream",
     "text": [
      "Your annual premium is Rs 31500.00\n",
      "Your annual premium is Rs 35000\n",
      "This premium calculation is only for males born between 1990 and 2000.\n"
     ]
    }
   ],
   "source": [
    "def calculate_health_premium(gender, year_of_birth, smoker_status):\n",
    "    # Constants for premiums and discounts\n",
    "    MALE_PREMIUM = 35000\n",
    "    MALE_PREMIUM_DISCOUNT = MALE_PREMIUM * 0.90  # 10% discount for non-smokers\n",
    "    \n",
    "    # Check if gender is male and year of birth is between 1990 and 2000\n",
    "    if gender.lower() == 'male' and 1990 <= year_of_birth <= 2000:\n",
    "        if smoker_status.lower() == 'yes':\n",
    "            print(\"Your annual premium is Rs 35000\")\n",
    "        elif smoker_status.lower() == 'no':\n",
    "            print(f\"Your annual premium is Rs {MALE_PREMIUM_DISCOUNT:.2f}\")\n",
    "        else:\n",
    "            print(\"Invalid smoker status\")\n",
    "    else:\n",
    "        print(\"This premium calculation is only for males born between 1990 and 2000.\")\n",
    "\n",
    "# Example usage\n",
    "calculate_health_premium('male', 1995, 'no')  # Non-smoker, should get discounted price\n",
    "calculate_health_premium('male', 1995, 'yes')  # Smoker, should get the full premium\n",
    "calculate_health_premium('male', 1985, 'no')   # Out of the valid range for year of birt"
   ]
  },
  {
   "cell_type": "code",
   "execution_count": 7,
   "id": "0b0a8fe3-cbd2-45b7-904a-8357b1705e7d",
   "metadata": {},
   "outputs": [
    {
     "name": "stdout",
     "output_type": "stream",
     "text": [
      "Your annual premium is Rs 38000.00\n",
      "Your annual premium is Rs 40000\n",
      "This premium calculation is only for individuals born between 1970 and 1990.\n"
     ]
    }
   ],
   "source": [
    "def calculate_health_premium(gender, year_of_birth, smoker_status):\n",
    "    # Constants for premiums and discounts\n",
    "    BASE_PREMIUM = 40000\n",
    "    DISCOUNTED_PREMIUM = BASE_PREMIUM * 0.95  # 5% discount for non-smokers\n",
    "\n",
    "    # Check if the year of birth is between 1970 and 1990\n",
    "    if 1970 <= year_of_birth <= 1990:\n",
    "        if smoker_status.lower() == 'yes':\n",
    "            print(\"Your annual premium is Rs 40000\")\n",
    "        elif smoker_status.lower() == 'no':\n",
    "            print(f\"Your annual premium is Rs {DISCOUNTED_PREMIUM:.2f}\")\n",
    "        else:\n",
    "            print(\"Invalid smoker status\")\n",
    "    else:\n",
    "        print(\"This premium calculation is only for individuals born between 1970 and 1990.\")\n",
    "\n",
    "# Example usage\n",
    "calculate_health_premium('male', 1980, 'no')  # Non-smoker, should get discounted price\n",
    "calculate_health_premium('female', 1985, 'yes')  # Smoker, should get the full premium\n",
    "calculate_health_premium('male', 1969, 'yes')   # Out of the valid range for year of birth"
   ]
  },
  {
   "cell_type": "code",
   "execution_count": 11,
   "id": "df624f89-ef5a-4b9b-8d31-b4add68a4b5d",
   "metadata": {},
   "outputs": [
    {
     "name": "stdout",
     "output_type": "stream",
     "text": [
      "Your annual premium is Rs 27000.00\n",
      "Your annual premium is Rs 30000\n",
      "This premium calculation is only for females born between 1990 and 2000.\n"
     ]
    }
   ],
   "source": [
    "def calculate_health_premium(gender, year_of_birth, smoker_status):\n",
    "    # Constants for premiums and discounts\n",
    "    BASE_PREMIUM = 30000\n",
    "    DISCOUNTED_PREMIUM = BASE_PREMIUM * 0.90  # 10% discount for non-smokers\n",
    "\n",
    "    # Check if the individual is female and born between 1990 and 2000\n",
    "    if gender.lower() == 'female' and 1990 <= year_of_birth <= 2000:\n",
    "        if smoker_status.lower() == 'yes':\n",
    "            print(\"Your annual premium is Rs 30000\")\n",
    "        elif smoker_status.lower() == 'no':\n",
    "            print(f\"Your annual premium is Rs {DISCOUNTED_PREMIUM:.2f}\")\n",
    "        else:\n",
    "            print(\"Invalid smoker status\")\n",
    "    else:\n",
    "        print(\"This premium calculation is only for females born between 1990 and 2000.\")\n",
    "\n",
    "# Example usage\n",
    "calculate_health_premium('female', 1995, 'no')  # Non-smoker, should get discounted price\n",
    "calculate_health_premium('female', 1995, 'yes')  # Smoker, should get the full premium\n",
    "calculate_health_premium('female', 1985, 'no')   # Out of the valid range for year of birth"
   ]
  },
  {
   "cell_type": "code",
   "execution_count": 13,
   "id": "9ee58cb7-ac73-440c-a4a3-8d408ee32744",
   "metadata": {},
   "outputs": [
    {
     "name": "stdout",
     "output_type": "stream",
     "text": [
      "Your annual premium is Rs 33250.00\n",
      "Your annual premium is Rs 35000\n",
      "This premium calculation is only for individuals born between 1970 and 1990.\n"
     ]
    }
   ],
   "source": [
    "def calculate_health_premium(gender, year_of_birth, smoker_status):\n",
    "    # Constants for premiums and discounts\n",
    "    BASE_PREMIUM = 35000\n",
    "    DISCOUNTED_PREMIUM = BASE_PREMIUM * 0.95  # 5% discount for non-smokers\n",
    "\n",
    "    # Check if the year of birth is between 1970 and 1990\n",
    "    if 1970 <= year_of_birth <= 1990:\n",
    "        if smoker_status.lower() == 'yes':\n",
    "            print(\"Your annual premium is Rs 35000\")\n",
    "        elif smoker_status.lower() == 'no':\n",
    "            print(f\"Your annual premium is Rs {DISCOUNTED_PREMIUM:.2f}\")\n",
    "        else:\n",
    "            print(\"Invalid smoker status\")\n",
    "    else:\n",
    "        print(\"This premium calculation is only for individuals born between 1970 and 1990.\")\n",
    "\n",
    "# Example usage\n",
    "calculate_health_premium('male', 1985, 'no')  # Non-smoker, should get discounted price\n",
    "calculate_health_premium('female', 1985, 'yes')  # Smoker, should get the full premium\n",
    "calculate_health_premium('male', 1969, 'no')   # Out of the valid range for year of birth"
   ]
  }
 ],
 "metadata": {
  "kernelspec": {
   "display_name": "Python 3 (ipykernel)",
   "language": "python",
   "name": "python3"
  },
  "language_info": {
   "codemirror_mode": {
    "name": "ipython",
    "version": 3
   },
   "file_extension": ".py",
   "mimetype": "text/x-python",
   "name": "python",
   "nbconvert_exporter": "python",
   "pygments_lexer": "ipython3",
   "version": "3.12.4"
  }
 },
 "nbformat": 4,
 "nbformat_minor": 5
}
